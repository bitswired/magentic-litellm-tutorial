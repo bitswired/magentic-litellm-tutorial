{
 "cells": [
  {
   "cell_type": "markdown",
   "metadata": {},
   "source": [
    "# Structured Output\n",
    "\n",
    "Now I will show you how to leverage **structured output**.\n",
    "\n",
    "It allows you to get structured data like JSON from the AI model, which is particularly useful when you integrate the results into an application.\n",
    "\n",
    "With Magentic, we do this using Pydantic models to specify the shape of the data we expect and force the LLM to follow it.\n",
    "\n",
    "Then we get Pydantic models as output."
   ]
  },
  {
   "cell_type": "markdown",
   "metadata": {},
   "source": [
    "Filter out some Pydantic warnings"
   ]
  },
  {
   "cell_type": "code",
   "execution_count": null,
   "metadata": {},
   "outputs": [],
   "source": [
    "import warnings\n",
    "warnings.filterwarnings(\"ignore\")"
   ]
  },
  {
   "cell_type": "markdown",
   "metadata": {},
   "source": [
    "Necessary imports"
   ]
  },
  {
   "cell_type": "code",
   "execution_count": null,
   "metadata": {},
   "outputs": [],
   "source": [
    "from dotenv import load_dotenv\n",
    "from magentic import chatprompt, AssistantMessage, SystemMessage, UserMessage, prompt\n",
    "from magentic.chat_model.litellm_chat_model import LitellmChatModel\n",
    "from pydantic import BaseModel\n",
    "from typing import Literal\n",
    "from datetime import datetime\n",
    "from pprint import pprint\n",
    "\n",
    "\n",
    "load_dotenv()"
   ]
  },
  {
   "cell_type": "markdown",
   "metadata": {},
   "source": [
    "# Create Some Unstructured Data\n",
    "\n",
    "I have gathered data from 2 reviews on TrustPilot for ChatGPT.\n",
    "\n",
    "`review_1` is positive while `review_2` is negative."
   ]
  },
  {
   "cell_type": "code",
   "execution_count": null,
   "metadata": {},
   "outputs": [],
   "source": [
    "review_1 = \"\"\"\n",
    "Rated 5 out of 5 stars\n",
    "Nov 16, 2023\n",
    "ChatGPT is a lovely tool that provides…\n",
    "ChatGPT is a lovely tool that provides quite good answers. With the wolfram alpha plugin it does calculations very good also.\n",
    "\n",
    "Date of experience: November 15, 2023\n",
    "\"\"\"\n",
    "\n",
    "review_2 = \"\"\"\n",
    "Rated 1 out of 5 stars\n",
    "Sep 14, 2023\n",
    "ChatGPT looping itself.\n",
    "It is repeating itself. I tell it I want to do something without doing something else, It gives me something that doesn't work. I tell it that, then it gives me something that includes what I don't want. It even does it in the same response!\n",
    "\"If you have an object that you want to write to a JSON file without it being stringified, you should first convert it to a JSON string using JSON.stringify and then write it to the file.\"\n",
    "\n",
    "Date of experience: September 14, 2023\n",
    "\"\"\""
   ]
  },
  {
   "cell_type": "markdown",
   "metadata": {},
   "source": [
    "# Define A Pydantic Model For Reviews"
   ]
  },
  {
   "cell_type": "code",
   "execution_count": null,
   "metadata": {},
   "outputs": [],
   "source": [
    "class Review(BaseModel):\n",
    "    sentiment: Literal[\"positive\", \"negative\", \"neutral\"]\n",
    "    grade: int\n",
    "    summary: str\n",
    "    date: datetime"
   ]
  },
  {
   "cell_type": "markdown",
   "metadata": {},
   "source": [
    "# Structured Output From `@prompt`"
   ]
  },
  {
   "cell_type": "code",
   "execution_count": null,
   "metadata": {},
   "outputs": [],
   "source": [
    "@prompt(\"Extract a Review from: {review}\", model=LitellmChatModel(\"gpt-3.5-turbo\"))\n",
    "def extract(review: str) -> Review: ...\n",
    "\n",
    "print(\"Parsing review 1:\")\n",
    "res = extract(review_1)\n",
    "pprint(res.model_dump())\n",
    "\n",
    "print()\n",
    "\n",
    "print(\"Parsing review 2:\")\n",
    "res = extract(review_2)\n",
    "pprint(res.model_dump())"
   ]
  },
  {
   "cell_type": "markdown",
   "metadata": {},
   "source": [
    "# Structured Output From `@chatpromt`"
   ]
  },
  {
   "cell_type": "code",
   "execution_count": 7,
   "metadata": {},
   "outputs": [
    {
     "name": "stdout",
     "output_type": "stream",
     "text": [
      "Parsing review 1:\n",
      "{'date': datetime.datetime(2023, 11, 16, 0, 0),\n",
      " 'grade': 5,\n",
      " 'sentiment': 'positive',\n",
      " 'summary': 'ChatGPT is a lovely tool'}\n",
      "\n",
      "Parsing review 2:\n",
      "{'date': datetime.datetime(2023, 9, 14, 0, 0),\n",
      " 'grade': 1,\n",
      " 'sentiment': 'negative',\n",
      " 'summary': 'ChatGPT repeating and providing incorrect information'}\n"
     ]
    }
   ],
   "source": [
    "@chatprompt(\n",
    "    SystemMessage(\"You are an expert to extract structured data from reviews.\"),\n",
    "    UserMessage(\"Extract a Review from this review: {review}?\"),\n",
    "    model=LitellmChatModel(\"gpt-3.5-turbo\"),\n",
    ")\n",
    "def extract_chat(review: str) -> Review: ...\n",
    "\n",
    "\n",
    "print(\"Parsing review 1:\")\n",
    "res = extract_chat(review_1)\n",
    "pprint(res.model_dump())\n",
    "\n",
    "print()\n",
    "\n",
    "print(\"Parsing review 2:\")\n",
    "res = extract_chat(review_2)\n",
    "pprint(res.model_dump())"
   ]
  },
  {
   "cell_type": "code",
   "execution_count": null,
   "metadata": {},
   "outputs": [],
   "source": []
  }
 ],
 "metadata": {
  "kernelspec": {
   "display_name": "prometeeos-api-5W7JRlnu-py3.12",
   "language": "python",
   "name": "python3"
  },
  "language_info": {
   "codemirror_mode": {
    "name": "ipython",
    "version": 3
   },
   "file_extension": ".py",
   "mimetype": "text/x-python",
   "name": "python",
   "nbconvert_exporter": "python",
   "pygments_lexer": "ipython3",
   "version": "3.12.2"
  }
 },
 "nbformat": 4,
 "nbformat_minor": 2
}
