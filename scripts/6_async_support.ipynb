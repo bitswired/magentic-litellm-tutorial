{
 "cells": [
  {
   "cell_type": "markdown",
   "metadata": {},
   "source": [
    "# Asynchronous Support\n",
    "\n",
    "Async support is important to optimize performance.\n",
    "\n",
    "When you generate, you spend most of your time waiting for the API to respond.\n",
    "\n",
    "With async support, you can do other things while waiting, enabling multitasking on a single thread.\n",
    "\n",
    "For instance, if you use FastAPI, you should use async generation, so the FastAPI thread can answer other requests while you wait for the response instead of blocking the main thread."
   ]
  },
  {
   "cell_type": "markdown",
   "metadata": {},
   "source": [
    "Filter out some Pydantic warnings"
   ]
  },
  {
   "cell_type": "code",
   "execution_count": 1,
   "metadata": {},
   "outputs": [],
   "source": [
    "import warnings\n",
    "\n",
    "warnings.filterwarnings(\"ignore\")"
   ]
  },
  {
   "cell_type": "markdown",
   "metadata": {},
   "source": [
    "Necessary imports"
   ]
  },
  {
   "cell_type": "code",
   "execution_count": 2,
   "metadata": {},
   "outputs": [
    {
     "data": {
      "text/plain": [
       "True"
      ]
     },
     "execution_count": 2,
     "metadata": {},
     "output_type": "execute_result"
    }
   ],
   "source": [
    "from dotenv import load_dotenv\n",
    "from magentic import (\n",
    "    chatprompt,\n",
    "    prompt,\n",
    "    SystemMessage,\n",
    "    UserMessage\n",
    ")\n",
    "from magentic.chat_model.litellm_chat_model import LitellmChatModel\n",
    "\n",
    "\n",
    "load_dotenv()"
   ]
  },
  {
   "cell_type": "markdown",
   "metadata": {},
   "source": [
    "# Asynchronous `@prompt`"
   ]
  },
  {
   "cell_type": "code",
   "execution_count": 3,
   "metadata": {},
   "outputs": [
    {
     "data": {
      "text/plain": [
       "'AI, or artificial intelligence, is a branch of computer science that aims to create machines or systems that can perform tasks that would typically require human intelligence. These tasks can include learning, reasoning, problem-solving, perception, and even speech recognition.\\n\\nThere are several different approaches to AI, including machine learning, deep learning, natural language processing, and computer vision. Machine learning is a method of teaching computers to learn from data and make decisions without being explicitly programmed. Deep learning is a subset of machine learning that uses artificial neural networks to mimic the way the human brain works. Natural language processing focuses on enabling computers to understand, interpret, and generate human language. Computer vision involves enabling machines to interpret and understand visual information.\\n\\nAI has a wide range of applications, from virtual assistants like Siri and Alexa to self-driving cars, medical diagnosis, financial trading, and even playing games like chess and Go. However, with the increasing capabilities of AI, there are also concerns about the ethical and societal implications of its use, such as privacy, bias, and job displacement.\\n\\nOverall, AI has the potential to greatly improve our lives and revolutionize various industries, but it also raises important questions that need to be addressed as the technology continues to advance.'"
      ]
     },
     "execution_count": 3,
     "metadata": {},
     "output_type": "execute_result"
    }
   ],
   "source": [
    "@prompt(\n",
    "    \"Tell me more about this topic: {topic}\",\n",
    "    model=LitellmChatModel(\"gpt-3.5-turbo\"),\n",
    ")\n",
    "async def answer(topic: str) -> str: ...\n",
    "\n",
    "await answer(\"AI\")\n"
   ]
  },
  {
   "cell_type": "markdown",
   "metadata": {},
   "source": [
    "# Asynchronous `@chatprompt`"
   ]
  },
  {
   "cell_type": "code",
   "execution_count": 4,
   "metadata": {},
   "outputs": [
    {
     "data": {
      "text/plain": [
       "'Artificial intelligence (AI) is the simulation of human intelligence processes by computer systems. This includes learning (the acquisition of information and rules for using the information), reasoning (using rules to reach approximate or definite conclusions), and self-correction.\\n\\nAI has the ability to analyze data, identify patterns, and make decisions with minimal human intervention. It is being used in various industries such as healthcare, finance, transportation, and customer service to improve efficiency and provide better services.\\n\\nThere are different types of AI including narrow AI, which is designed for specific tasks such as speech recognition or image recognition, and general AI, which has the ability to apply intelligence to any problem.\\n\\nOverall, AI has the potential to revolutionize many aspects of our lives and has already made significant advancements in areas such as healthcare, autonomous vehicles, and personalized recommendations. However, there are also ethical concerns surrounding AI, such as privacy issues, bias in algorithms, and the potential for job displacement.'"
      ]
     },
     "execution_count": 4,
     "metadata": {},
     "output_type": "execute_result"
    }
   ],
   "source": [
    "@chatprompt(\n",
    "    SystemMessage(\"You are pro teacher.\"),\n",
    "    UserMessage(\"Tell me more about {topic}?\"),\n",
    "    model=LitellmChatModel(\"gpt-3.5-turbo\"),\n",
    ")\n",
    "async def answer_chat(topic: str) -> str: ...\n",
    "\n",
    "\n",
    "await answer_chat(\"AI\")"
   ]
  },
  {
   "cell_type": "code",
   "execution_count": null,
   "metadata": {},
   "outputs": [],
   "source": []
  }
 ],
 "metadata": {
  "kernelspec": {
   "display_name": "prometeeos-api-5W7JRlnu-py3.12",
   "language": "python",
   "name": "python3"
  },
  "language_info": {
   "codemirror_mode": {
    "name": "ipython",
    "version": 3
   },
   "file_extension": ".py",
   "mimetype": "text/x-python",
   "name": "python",
   "nbconvert_exporter": "python",
   "pygments_lexer": "ipython3",
   "version": "3.12.2"
  }
 },
 "nbformat": 4,
 "nbformat_minor": 2
}
